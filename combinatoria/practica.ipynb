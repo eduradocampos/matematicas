
Untitled0.ipynb
Untitled0.ipynb_
[1]
lista = ['A', 'B', 'C', 'D'] #EJERCICIO 1 COMBINATORIA
contador = 1

for i in lista:
    for j in lista:
        for k in lista:
            for l in lista:
                if i != j and i != k and i != l and j != k and j != l and k != l:
                    print(f"{contador:2d} →  {i+j+k+l}")
                    contador += 1
[2]
lista = ['A', 'B', 'C', 'D'] #EJERCICIO 2 COMBINATORIA
contador = 1
for j in lista: 
  for k in lista:
    for l in lista:
      if j != k and j != l and k != l:
          print(f"{contador:2d} →  {j+k+l}   ")
          contador += 1
[3]
lista = ['Juan ', 'Pedro ', 'Miguel ', 'Luis ']

for i in lista:
    for j in lista:
        for k in lista:
            for l in lista:
                    print(i + j + k + l)
[6]
from itertools import combinations_with_replacement
c = combinations_with_replacement('NCV', 5)

for i in c:
    print(*i)

m = 3
n = 5
print(f"Los casos que se obtienen son {int(factorial(m+n-1)/factorial(n)/factorial(m-1))}")
from itertools import combinations

[7]
lista=["hamburguesa","perrito","kebab","macarrones","pizza"]
 
for i in lista:
    for j in lista:
        print (i,j)

Productos de pago de Colab - Cancelar contratos

check
0 s
completado a las 23:12
Entorno de ejecución desconectado
